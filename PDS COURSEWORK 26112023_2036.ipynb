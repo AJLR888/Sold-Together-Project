{
 "cells": [
  {
   "cell_type": "markdown",
   "id": "91750736",
   "metadata": {},
   "source": [
    "Link: https://archive.ics.uci.edu/dataset/502/online+retail+ii"
   ]
  },
  {
   "cell_type": "code",
   "execution_count": 1,
   "id": "ed8811cc",
   "metadata": {},
   "outputs": [],
   "source": [
    "import numpy as np\n",
    "import pandas as pd\n",
    "import seaborn as sns\n",
    "import matplotlib.pyplot as plt"
   ]
  },
  {
   "cell_type": "code",
   "execution_count": 2,
   "id": "b1d3d87f",
   "metadata": {},
   "outputs": [],
   "source": [
    "retail = r\"C:\\Users\\nonox\\University\\City\\First semestre\\Principles of DS\\CourseWork\\Data\\retail.xlsx\"\n",
    "retail = retail.replace(\"\\\\\", \"/\")\n",
    "retail = pd.read_excel(retail)"
   ]
  },
  {
   "cell_type": "code",
   "execution_count": 3,
   "id": "e75158a7",
   "metadata": {
    "scrolled": false
   },
   "outputs": [
    {
     "name": "stdout",
     "output_type": "stream",
     "text": [
      "  Invoice StockCode                          Description  Quantity  \\\n",
      "0  489434     85048  15CM CHRISTMAS GLASS BALL 20 LIGHTS        12   \n",
      "1  489434    79323P                   PINK CHERRY LIGHTS        12   \n",
      "2  489434    79323W                  WHITE CHERRY LIGHTS        12   \n",
      "3  489434     22041         RECORD FRAME 7\" SINGLE SIZE         48   \n",
      "4  489434     21232       STRAWBERRY CERAMIC TRINKET BOX        24   \n",
      "\n",
      "          InvoiceDate  Price  Customer ID         Country  \n",
      "0 2009-12-01 07:45:00   6.95      13085.0  United Kingdom  \n",
      "1 2009-12-01 07:45:00   6.75      13085.0  United Kingdom  \n",
      "2 2009-12-01 07:45:00   6.75      13085.0  United Kingdom  \n",
      "3 2009-12-01 07:45:00   2.10      13085.0  United Kingdom  \n",
      "4 2009-12-01 07:45:00   1.25      13085.0  United Kingdom  \n",
      "(525461, 8)\n"
     ]
    }
   ],
   "source": [
    "print(retail.head())\n",
    "print(retail.shape)"
   ]
  },
  {
   "cell_type": "code",
   "execution_count": 4,
   "id": "f4fde881",
   "metadata": {},
   "outputs": [
    {
     "name": "stdout",
     "output_type": "stream",
     "text": [
      "['Invoice', 'StockCode', 'Description', 'Quantity', 'InvoiceDate', 'Price', 'Customer ID', 'Country']\n",
      "\n",
      "\n",
      "(525461, 8)\n",
      "\n",
      "\n",
      "Invoice                object\n",
      "StockCode              object\n",
      "Description            object\n",
      "Quantity                int64\n",
      "InvoiceDate    datetime64[ns]\n",
      "Price                 float64\n",
      "Customer ID           float64\n",
      "Country                object\n",
      "dtype: object\n",
      "\n",
      "\n",
      "object            4\n",
      "float64           2\n",
      "int64             1\n",
      "datetime64[ns]    1\n",
      "dtype: int64\n"
     ]
    }
   ],
   "source": [
    "print(list(retail.columns))\n",
    "print(\"\\n\")\n",
    "print(retail.shape)\n",
    "print(\"\\n\")\n",
    "print(retail.dtypes)\n",
    "print(\"\\n\")\n",
    "print(retail.dtypes.value_counts())"
   ]
  },
  {
   "cell_type": "markdown",
   "id": "82bdab82",
   "metadata": {},
   "source": [
    "## Negative values"
   ]
  },
  {
   "cell_type": "code",
   "execution_count": 5,
   "id": "214097ae",
   "metadata": {},
   "outputs": [
    {
     "name": "stdout",
     "output_type": "stream",
     "text": [
      "        Invoice StockCode      Description  Quantity         InvoiceDate  \\\n",
      "179403  A506401         B  Adjust bad debt         1 2010-04-29 13:36:00   \n",
      "276274  A516228         B  Adjust bad debt         1 2010-07-19 11:24:00   \n",
      "403472  A528059         B  Adjust bad debt         1 2010-10-20 12:04:00   \n",
      "\n",
      "           Price  Customer ID         Country  \n",
      "179403 -53594.36          NaN  United Kingdom  \n",
      "276274 -44031.79          NaN  United Kingdom  \n",
      "403472 -38925.87          NaN  United Kingdom  \n"
     ]
    }
   ],
   "source": [
    "negative_prices = retail[retail['Price'] < 0]\n",
    "print(negative_prices)"
   ]
  },
  {
   "cell_type": "code",
   "execution_count": 6,
   "id": "6ec22ada",
   "metadata": {},
   "outputs": [
    {
     "name": "stdout",
     "output_type": "stream",
     "text": [
      "303996    -9600\n",
      "507225    -9360\n",
      "156488    -9200\n",
      "428975    -9000\n",
      "194372    -9000\n",
      "          ...  \n",
      "127167    12480\n",
      "127169    12744\n",
      "127166    12960\n",
      "127168    12960\n",
      "90857     19152\n",
      "Name: Quantity, Length: 525461, dtype: int64\n"
     ]
    }
   ],
   "source": [
    "print(retail['Quantity'].sort_values(ascending=True))"
   ]
  },
  {
   "cell_type": "code",
   "execution_count": 7,
   "id": "82633b0b",
   "metadata": {},
   "outputs": [
    {
     "name": "stdout",
     "output_type": "stream",
     "text": [
      "        Invoice StockCode                    Description  Quantity  \\\n",
      "178     C489449     22087       PAPER BUNTING WHITE LACE       -12   \n",
      "179     C489449    85206A   CREAM FELT EASTER EGG BASKET        -6   \n",
      "180     C489449     21895  POTTING SHED SOW 'N' GROW SET        -4   \n",
      "181     C489449     21896             POTTING SHED TWINE        -6   \n",
      "182     C489449     22083     PAPER CHAIN KIT RETRO SPOT       -12   \n",
      "...         ...       ...                            ...       ...   \n",
      "525231   538159     21324                            NaN       -18   \n",
      "525232   538158     20892                            NaN       -32   \n",
      "525234   538161    46000S                   Dotcom sales      -100   \n",
      "525235   538162    46000M                   Dotcom sales      -100   \n",
      "525282  C538164    35004B    SET OF 3 BLACK FLYING DUCKS        -1   \n",
      "\n",
      "               InvoiceDate  Price  Customer ID         Country  \n",
      "178    2009-12-01 10:33:00   2.95      16321.0       Australia  \n",
      "179    2009-12-01 10:33:00   1.65      16321.0       Australia  \n",
      "180    2009-12-01 10:33:00   4.25      16321.0       Australia  \n",
      "181    2009-12-01 10:33:00   2.10      16321.0       Australia  \n",
      "182    2009-12-01 10:33:00   2.95      16321.0       Australia  \n",
      "...                    ...    ...          ...             ...  \n",
      "525231 2010-12-09 17:17:00   0.00          NaN  United Kingdom  \n",
      "525232 2010-12-09 17:17:00   0.00          NaN  United Kingdom  \n",
      "525234 2010-12-09 17:25:00   0.00          NaN  United Kingdom  \n",
      "525235 2010-12-09 17:25:00   0.00          NaN  United Kingdom  \n",
      "525282 2010-12-09 17:32:00   1.95      14031.0  United Kingdom  \n",
      "\n",
      "[12326 rows x 8 columns]\n"
     ]
    }
   ],
   "source": [
    "negative_quantities = retail[retail['Quantity'] < 0]\n",
    "print(negative_quantities)"
   ]
  },
  {
   "cell_type": "markdown",
   "id": "eece1b12",
   "metadata": {},
   "source": [
    "## Empty cells"
   ]
  },
  {
   "cell_type": "code",
   "execution_count": 8,
   "id": "308ff877",
   "metadata": {},
   "outputs": [
    {
     "name": "stdout",
     "output_type": "stream",
     "text": [
      "Invoice             0\n",
      "StockCode           0\n",
      "Description      2928\n",
      "Quantity            0\n",
      "InvoiceDate         0\n",
      "Price               0\n",
      "Customer ID    107927\n",
      "Country             0\n",
      "dtype: int64\n"
     ]
    }
   ],
   "source": [
    "print(retail.isnull().sum())"
   ]
  },
  {
   "cell_type": "code",
   "execution_count": 9,
   "id": "3aadafb6",
   "metadata": {},
   "outputs": [
    {
     "name": "stdout",
     "output_type": "stream",
     "text": [
      "Invoice        0\n",
      "StockCode      0\n",
      "Description    0\n",
      "Quantity       0\n",
      "InvoiceDate    0\n",
      "Price          0\n",
      "Customer ID    0\n",
      "Country        0\n",
      "dtype: int64\n"
     ]
    }
   ],
   "source": [
    "retail = retail.dropna()\n",
    "print(retail.isnull().sum())"
   ]
  },
  {
   "cell_type": "code",
   "execution_count": 10,
   "id": "b2dd3c53",
   "metadata": {},
   "outputs": [
    {
     "name": "stdout",
     "output_type": "stream",
     "text": [
      "85123A    3245\n",
      "22423     1872\n",
      "85099B    1784\n",
      "21212     1599\n",
      "21232     1536\n",
      "          ... \n",
      "85024A       1\n",
      "79157B       1\n",
      "21852        1\n",
      "35930        1\n",
      "22933        1\n",
      "Name: StockCode, Length: 4031, dtype: int64\n"
     ]
    }
   ],
   "source": [
    "print(retail['StockCode'].value_counts().sort_values(ascending=False))"
   ]
  },
  {
   "cell_type": "code",
   "execution_count": 11,
   "id": "d1002e8a",
   "metadata": {},
   "outputs": [
    {
     "name": "stdout",
     "output_type": "stream",
     "text": [
      "      Invoice StockCode                        Description  Quantity  \\\n",
      "11634  490312    85024A  CRYSTAL SMALL JEWELLED PHOTOFRAME         1   \n",
      "\n",
      "              InvoiceDate  Price  Customer ID         Country  \n",
      "11634 2009-12-04 15:16:00   1.65      17961.0  United Kingdom  \n",
      "\n",
      "\n",
      "    Invoice StockCode                  Description  Quantity  \\\n",
      "161  489446    85099B  JUMBO BAG RED WHITE SPOTTY         20   \n",
      "\n",
      "            InvoiceDate  Price  Customer ID         Country  \n",
      "161 2009-12-01 10:06:00   1.95      13758.0  United Kingdom  \n",
      "\n",
      "\n",
      "      Invoice StockCode              Description  Quantity  \\\n",
      "84290  497221    79157B  UBO-LIGHT TRIOBASE BLUE         1   \n",
      "\n",
      "              InvoiceDate  Price  Customer ID         Country  \n",
      "84290 2010-02-07 15:07:00   0.85      17550.0  United Kingdom  \n",
      "\n",
      "\n",
      "Empty DataFrame\n",
      "Columns: [Invoice, StockCode, Description, Quantity, InvoiceDate, Price, Customer ID, Country]\n",
      "Index: []\n"
     ]
    }
   ],
   "source": [
    "print(retail[retail['StockCode']=='85024A'].head(1))\n",
    "print(\"\\n\")\n",
    "print(retail[retail['StockCode']=='85099B'].head(1))\n",
    "print(\"\\n\")\n",
    "print(retail[retail['StockCode']=='79157B'].head(1))\n",
    "print(\"\\n\")\n",
    "print(retail[retail['StockCode']=='21212'].head(1))"
   ]
  },
  {
   "cell_type": "markdown",
   "id": "66f71f23",
   "metadata": {},
   "source": [
    "## Country purchase"
   ]
  },
  {
   "cell_type": "code",
   "execution_count": 12,
   "id": "4dd024ea",
   "metadata": {},
   "outputs": [
    {
     "name": "stdout",
     "output_type": "stream",
     "text": [
      "United Kingdom          379423\n",
      "EIRE                      8710\n",
      "Germany                   8129\n",
      "France                    5710\n",
      "Netherlands               2769\n",
      "Spain                     1278\n",
      "Switzerland               1187\n",
      "Belgium                   1054\n",
      "Portugal                  1024\n",
      "Channel Islands            906\n",
      "Sweden                     883\n",
      "Italy                      731\n",
      "Australia                  654\n",
      "Cyprus                     554\n",
      "Austria                    537\n",
      "Greece                     517\n",
      "Denmark                    428\n",
      "Norway                     369\n",
      "Finland                    354\n",
      "United Arab Emirates       318\n",
      "Unspecified                280\n",
      "USA                        244\n",
      "Japan                      224\n",
      "Poland                     194\n",
      "Malta                      172\n",
      "Lithuania                  154\n",
      "Singapore                  117\n",
      "Canada                      77\n",
      "Thailand                    76\n",
      "Israel                      74\n",
      "Iceland                     71\n",
      "RSA                         65\n",
      "Korea                       63\n",
      "Brazil                      62\n",
      "West Indies                 54\n",
      "Bahrain                     42\n",
      "Nigeria                     30\n",
      "Name: Country, dtype: int64\n"
     ]
    }
   ],
   "source": [
    "print(retail['Country'].value_counts())"
   ]
  },
  {
   "cell_type": "code",
   "execution_count": null,
   "id": "1ff86da1",
   "metadata": {},
   "outputs": [],
   "source": []
  },
  {
   "cell_type": "markdown",
   "id": "85fa593a",
   "metadata": {},
   "source": [
    "## Correlation and some statistics"
   ]
  },
  {
   "cell_type": "code",
   "execution_count": 13,
   "id": "a7886369",
   "metadata": {},
   "outputs": [
    {
     "name": "stdout",
     "output_type": "stream",
     "text": [
      "             Price  Quantity\n",
      "Price     1.000000 -0.004112\n",
      "Quantity -0.004112  1.000000\n"
     ]
    }
   ],
   "source": [
    "correlation = retail[['Price', 'Quantity']].corr()\n",
    "print(correlation)"
   ]
  },
  {
   "cell_type": "code",
   "execution_count": 14,
   "id": "c4342512",
   "metadata": {},
   "outputs": [
    {
     "name": "stdout",
     "output_type": "stream",
     "text": [
      "            Quantity          Price    Customer ID\n",
      "count  417534.000000  417534.000000  417534.000000\n",
      "mean       12.758815       3.887547   15360.645478\n",
      "std       101.220424      71.131797    1680.811316\n",
      "min     -9360.000000       0.000000   12346.000000\n",
      "25%         2.000000       1.250000   13983.000000\n",
      "50%         4.000000       1.950000   15311.000000\n",
      "75%        12.000000       3.750000   16799.000000\n",
      "max     19152.000000   25111.090000   18287.000000\n"
     ]
    }
   ],
   "source": [
    "print(retail.describe())"
   ]
  },
  {
   "cell_type": "code",
   "execution_count": 15,
   "id": "c5c2ae9d",
   "metadata": {},
   "outputs": [
    {
     "data": {
      "image/png": "[encoded data removed]",
      "text/plain": [
       "<Figure size 640x480 with 1 Axes>"
      ]
     },
     "metadata": {},
     "output_type": "display_data"
    }
   ],
   "source": [
    "# Checking for outliers in price column\n",
    "plt.boxplot(retail['Price'])\n",
    "\n",
    "\n",
    "plt.show()\n",
    "\n",
    "\n",
    "\n"
   ]
  },
  {
   "cell_type": "markdown",
   "id": "dc41141b",
   "metadata": {},
   "source": [
    "## Many negative quantities, probably because of returns."
   ]
  },
  {
   "cell_type": "code",
   "execution_count": 16,
   "id": "9d0dfe80",
   "metadata": {},
   "outputs": [
    {
     "data": {
      "image/png": "[encoded data removed]",
      "text/plain": [
       "<Figure size 640x480 with 1 Axes>"
      ]
     },
     "metadata": {},
     "output_type": "display_data"
    }
   ],
   "source": [
    "plt.boxplot(retail['Quantity'])\n",
    "\n",
    "plt.show()\n"
   ]
  },
  {
   "cell_type": "markdown",
   "id": "67830914",
   "metadata": {},
   "source": [
    "## Deleting outliers\n"
   ]
  },
  {
   "cell_type": "code",
   "execution_count": 17,
   "id": "e5c64556",
   "metadata": {},
   "outputs": [
    {
     "name": "stdout",
     "output_type": "stream",
     "text": [
      "Index(['Invoice', 'StockCode', 'Description', 'Quantity', 'InvoiceDate',\n",
      "       'Price', 'Customer ID', 'Country'],\n",
      "      dtype='object')\n"
     ]
    }
   ],
   "source": [
    "print(retail.columns)\n"
   ]
  },
  {
   "cell_type": "code",
   "execution_count": 18,
   "id": "5ee07fbb",
   "metadata": {},
   "outputs": [
    {
     "name": "stdout",
     "output_type": "stream",
     "text": [
      "1\n",
      "23\n",
      "0.45\n",
      "8.49\n"
     ]
    }
   ],
   "source": [
    "# Filtering price\n",
    "lower_price = retail['Price'].quantile(0.05)\n",
    "upper_price = retail['Price'].quantile(0.95)\n",
    "\n",
    "\n",
    "# Filtering quantity\n",
    "lower_quantity = retail['Quantity'] > 0\n",
    "upper_quantity = retail['Quantity'].quantile(0.9)\n",
    "\n",
    "# Update the dataframe\n",
    "retail = retail[(retail['Quantity'] > 0)\n",
    "                & (retail['Quantity'] < upper_quantity)\n",
    "                & (retail['Price'] > lower_price) \n",
    "                & (retail['Price'] < upper_price)\n",
    "               ]\n",
    "\n",
    "print(retail['Quantity'].min())\n",
    "print(retail['Quantity'].max())\n",
    "print(retail['Price'].min())\n",
    "print(retail['Price'].max())\n"
   ]
  },
  {
   "cell_type": "code",
   "execution_count": 19,
   "id": "8cab880b",
   "metadata": {},
   "outputs": [
    {
     "data": {
      "image/png": "[encoded data removed]",
      "text/plain": [
       "<Figure size 640x480 with 1 Axes>"
      ]
     },
     "metadata": {},
     "output_type": "display_data"
    }
   ],
   "source": [
    "# Checking for outliers in price column\n",
    "plt.boxplot(retail['Price'])\n",
    "\n",
    "\n",
    "plt.show()\n",
    "\n"
   ]
  },
  {
   "cell_type": "code",
   "execution_count": 20,
   "id": "470f5ab5",
   "metadata": {},
   "outputs": [
    {
     "data": {
      "image/png": "[encoded data removed]",
      "text/plain": [
       "<Figure size 640x480 with 1 Axes>"
      ]
     },
     "metadata": {},
     "output_type": "display_data"
    }
   ],
   "source": [
    "plt.boxplot(retail['Quantity'])\n",
    "\n",
    "plt.show()\n"
   ]
  },
  {
   "cell_type": "code",
   "execution_count": 21,
   "id": "af1f5db7",
   "metadata": {},
   "outputs": [
    {
     "data": {
      "image/png": "[encoded data removed]",
      "text/plain": [
       "<Figure size 640x480 with 1 Axes>"
      ]
     },
     "metadata": {},
     "output_type": "display_data"
    }
   ],
   "source": [
    "# Checking price's distribution through a histogram\n",
    "retail['Price'].hist(bins=20)\n",
    "\n",
    "# Labels\n",
    "plt.title('Price Distribution')\n",
    "plt.xlabel('Price')\n",
    "plt.ylabel('Frequency')\n",
    "\n",
    "plt.show()"
   ]
  },
  {
   "cell_type": "code",
   "execution_count": 22,
   "id": "42eca667",
   "metadata": {},
   "outputs": [
    {
     "data": {
      "image/png": "[encoded data removed]",
      "text/plain": [
       "<Figure size 640x480 with 1 Axes>"
      ]
     },
     "metadata": {},
     "output_type": "display_data"
    }
   ],
   "source": [
    "# Checking price's distribution through a histogram\n",
    "retail['Quantity'].hist(bins=20)\n",
    "\n",
    "# Labels\n",
    "plt.title('Quantity Distribution')\n",
    "plt.xlabel('Quantity')\n",
    "plt.ylabel('Frequency')\n",
    "\n",
    "plt.show()"
   ]
  },
  {
   "cell_type": "code",
   "execution_count": 23,
   "id": "05862195",
   "metadata": {},
   "outputs": [
    {
     "name": "stdout",
     "output_type": "stream",
     "text": [
      "(315508, 8)\n"
     ]
    }
   ],
   "source": [
    "print(retail.shape)"
   ]
  },
  {
   "cell_type": "code",
   "execution_count": 24,
   "id": "e9decf5c",
   "metadata": {},
   "outputs": [
    {
     "data": {
      "image/png": "[encoded data removed]",
      "text/plain": [
       "<Figure size 640x480 with 1 Axes>"
      ]
     },
     "metadata": {},
     "output_type": "display_data"
    }
   ],
   "source": [
    "# Checking price's distribution through a histogram\n",
    "retail['Quantity'].hist()\n",
    "\n",
    "# Labels\n",
    "\n",
    "\n",
    "plt.show()"
   ]
  },
  {
   "cell_type": "code",
   "execution_count": null,
   "id": "3f539a46",
   "metadata": {},
   "outputs": [],
   "source": []
  },
  {
   "cell_type": "markdown",
   "id": "b4aef943",
   "metadata": {},
   "source": [
    "## Since retail dataset is massive, I will do random samples. I will select all the transactions from random days until I get around 15000 rows dataset."
   ]
  },
  {
   "cell_type": "code",
   "execution_count": 46,
   "id": "cf1fc5e4",
   "metadata": {},
   "outputs": [
    {
     "name": "stdout",
     "output_type": "stream",
     "text": [
      "       Invoice StockCode                         Description  Quantity  \\\n",
      "91525   498027     21429      RED GINGHAM ROSE JEWELLERY BOX         8   \n",
      "91526   498027     10125             MINI FUNKY DESIGN TAPES        20   \n",
      "91527   498027     20685                   DOOR MAT RED SPOT         4   \n",
      "91528   498027     21524     DOOR MAT SPOTTY HOME SWEET HOME         2   \n",
      "91529   498027     48184              DOOR MAT ENGLISH ROSE          4   \n",
      "...        ...       ...                                 ...       ...   \n",
      "525456  538171     22271                FELTCRAFT DOLL ROSIE         2   \n",
      "525457  538171     22750        FELTCRAFT PRINCESS LOLA DOLL         1   \n",
      "525458  538171     22751      FELTCRAFT PRINCESS OLIVIA DOLL         1   \n",
      "525459  538171     20970  PINK FLORAL FELTCRAFT SHOULDER BAG         2   \n",
      "525460  538171     21931              JUMBO STORAGE BAG SUKI         2   \n",
      "\n",
      "       InvoiceDate  Price  Customer ID         Country  \n",
      "91525   2010-02-16   1.65      17644.0  United Kingdom  \n",
      "91526   2010-02-16   0.85      17644.0  United Kingdom  \n",
      "91527   2010-02-16   7.49      17644.0  United Kingdom  \n",
      "91528   2010-02-16   7.49      17644.0  United Kingdom  \n",
      "91529   2010-02-16   7.49      17644.0  United Kingdom  \n",
      "...            ...    ...          ...             ...  \n",
      "525456  2010-12-09   2.95      17530.0  United Kingdom  \n",
      "525457  2010-12-09   3.75      17530.0  United Kingdom  \n",
      "525458  2010-12-09   3.75      17530.0  United Kingdom  \n",
      "525459  2010-12-09   3.75      17530.0  United Kingdom  \n",
      "525460  2010-12-09   1.95      17530.0  United Kingdom  \n",
      "\n",
      "[9518 rows x 8 columns]\n"
     ]
    }
   ],
   "source": [
    "import pandas as pd\n",
    "import numpy as np\n",
    "\n",
    "# Convert 'InvoiceDate' to only days, getting rid of the time\n",
    "retail['InvoiceDate'] = pd.to_datetime(retail['InvoiceDate']).dt.date\n",
    "\n",
    "# Calculate the number of transaction/day\n",
    "transaction_days = retail.groupby('InvoiceDate').size()\n",
    "\n",
    "# Shuffle the days\n",
    "shuffled_days = transaction_days.sample(frac=1, random_state=1)\n",
    "\n",
    "# Accumulate the transactions\n",
    "cumulative_transaction = shuffled_days.cumsum()\n",
    "\n",
    "# Find the days needed to reach the number of rows wished\n",
    "target_transaction = 10000\n",
    "selected_days = cumulative_transaction[cumulative_transaction <= target_transaction]\n",
    "if selected_days.sum() < target_transaction:\n",
    "    # If the sum is less than the target, add one more day\n",
    "    next_day = shuffled_days.loc[cumulative_transaction > target_transaction].index[0]\n",
    "    selected_days = selected_days.append(shuffled_days.loc[next_day])\n",
    "\n",
    "# Now, get the actual transaction lines from the selected days\n",
    "retail_sample1 = retail[retail['InvoiceDate'].isin(selected_days.index)]\n",
    "print(retail_sample1)"
   ]
  },
  {
   "cell_type": "code",
   "execution_count": 45,
   "id": "9c72faec",
   "metadata": {},
   "outputs": [
    {
     "name": "stdout",
     "output_type": "stream",
     "text": [
      "United Kingdom          8575\n",
      "France                   286\n",
      "EIRE                     198\n",
      "Germany                  122\n",
      "Portugal                  87\n",
      "Lithuania                 65\n",
      "United Arab Emirates      51\n",
      "Spain                     36\n",
      "Finland                   31\n",
      "Belgium                   19\n",
      "Unspecified               15\n",
      "Channel Islands           12\n",
      "Denmark                   11\n",
      "Sweden                     6\n",
      "Netherlands                2\n",
      "Japan                      2\n",
      "Name: Country, dtype: int64\n"
     ]
    }
   ],
   "source": [
    "print(sampled_df['Country'].value_counts())"
   ]
  },
  {
   "cell_type": "markdown",
   "id": "157016a5",
   "metadata": {},
   "source": [
    "# Questions/considerations:\n",
    "\n",
    "* Customers that repeatidly purchased across the time.\n",
    "* Items bought in the same basket\n",
    "* \n"
   ]
  },
  {
   "cell_type": "markdown",
   "id": "1f21a2ff",
   "metadata": {},
   "source": [
    "### Resources:\n",
    "\n",
    "https://pbpython.com/market-basket-analysis.html\n",
    "\n",
    "https://medium.com/@rifatalkausar/market-basket-analysis-using-mlxtend-library-in-python-7e56bd41a569\n",
    "\n",
    "https://pandas.pydata.org/docs/reference/api/pandas.DataFrame.groupby.html\n",
    "\n",
    "https://www.w3resource.com/pandas/series/series-cumsum.php\n"
   ]
  },
  {
   "cell_type": "code",
   "execution_count": null,
   "id": "43c24cc0",
   "metadata": {},
   "outputs": [],
   "source": []
  },
  {
   "cell_type": "code",
   "execution_count": null,
   "id": "11a295a3",
   "metadata": {},
   "outputs": [],
   "source": []
  },
  {
   "cell_type": "code",
   "execution_count": null,
   "id": "3ddc49ed",
   "metadata": {},
   "outputs": [],
   "source": []
  },
  {
   "cell_type": "code",
   "execution_count": null,
   "id": "4f06d57e",
   "metadata": {},
   "outputs": [],
   "source": []
  },
  {
   "cell_type": "code",
   "execution_count": null,
   "id": "6d2b3681",
   "metadata": {},
   "outputs": [],
   "source": []
  }
 ],
 "metadata": {
  "kernelspec": {
   "display_name": "Python 3 (ipykernel)",
   "language": "python",
   "name": "python3"
  },
  "language_info": {
   "codemirror_mode": {
    "name": "ipython",
    "version": 3
   },
   "file_extension": ".py",
   "mimetype": "text/x-python",
   "name": "python",
   "nbconvert_exporter": "python",
   "pygments_lexer": "ipython3",
   "version": "3.9.18"
  }
 },
 "nbformat": 4,
 "nbformat_minor": 5
}
